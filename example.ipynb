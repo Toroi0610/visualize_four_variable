{
 "metadata": {
  "language_info": {
   "codemirror_mode": {
    "name": "ipython",
    "version": 3
   },
   "file_extension": ".py",
   "mimetype": "text/x-python",
   "name": "python",
   "nbconvert_exporter": "python",
   "pygments_lexer": "ipython3",
   "version": "3.8.2-final"
  },
  "orig_nbformat": 2,
  "kernelspec": {
   "name": "python3",
   "display_name": "Python 3",
   "language": "python"
  }
 },
 "nbformat": 4,
 "nbformat_minor": 2,
 "cells": [
  {
   "cell_type": "code",
   "execution_count": 6,
   "metadata": {},
   "outputs": [],
   "source": [
    "from sklearn.preprocessing import PolynomialFeatures\n",
    "from sklearn.linear_model import LinearRegression\n",
    "from sklearn.pipeline import Pipeline\n",
    "import numpy as np\n",
    "\n",
    "from smt.sampling_methods import LHS"
   ]
  },
  {
   "source": [
    "## True Function\n",
    "## $f(x, y) = (a+c)x^2 + (b+d)y^2 + dx + cy + a + b + \\epsilon$\n",
    "## $-5<= x<= 5$, $-5<= y<= 5$, a,b,c,dは100個ランダムに生成\n",
    "## $h(x, y, a, b, c, d) =$ 3deg-Poly-Reg\n"
   ],
   "cell_type": "markdown",
   "metadata": {}
  },
  {
   "cell_type": "code",
   "execution_count": 21,
   "metadata": {},
   "outputs": [],
   "source": [
    "def f(x, y, a, b, c, d):\n",
    "    return (a+c)*x**2 + (b+d)*y**2 + d*x + c*y + a + b + np.random.randn()"
   ]
  },
  {
   "source": [
    "## Data Generation"
   ],
   "cell_type": "markdown",
   "metadata": {}
  },
  {
   "cell_type": "code",
   "execution_count": 22,
   "metadata": {},
   "outputs": [],
   "source": [
    "xlimits = np.array([[0.0, 1.0], [-1.0, 1.0], [-1, 1], [0, 1]])\n",
    "sampling = LHS(xlimits=xlimits)\n",
    "\n",
    "num = 100\n",
    "input_values = sampling(num)"
   ]
  },
  {
   "cell_type": "code",
   "execution_count": 23,
   "metadata": {},
   "outputs": [],
   "source": [
    "x = np.arange(-5, 5, 0.1)\n",
    "y = np.arange(-5, 5, 0.1)\n",
    "xx, yy = np.meshgrid(x, y)"
   ]
  },
  {
   "cell_type": "code",
   "execution_count": 66,
   "metadata": {},
   "outputs": [],
   "source": [
    "z = np.zeros([100, 100, 100])\n",
    "points = []\n",
    "for k, inp in enumerate(input_values):\n",
    "    a, b, c, d = inp[0], inp[1], inp[2], inp[3]\n",
    "    for i in range(100):\n",
    "        for j in range(100):\n",
    "            z[k, i, j] = f(xx[i, j], yy[i, j], a, b, c, d)\n",
    "            points.append([xx[i, j], yy[i, j], a, b, c, d])"
   ]
  },
  {
   "source": [
    "## Learning W\n",
    "## $X = (1, x, y, a, b, c, d, x^2, xy, xa, xb, ...)  (1000000 \\times m)$\n",
    "## $Z = (z(-5, 5, a1, b1, c1, d1), )   (1000000 \\times 1)$\n",
    "## $W = (m\\times 1)$\n",
    "## $Z = XW$"
   ],
   "cell_type": "markdown",
   "metadata": {}
  },
  {
   "cell_type": "code",
   "execution_count": 93,
   "metadata": {},
   "outputs": [],
   "source": [
    "# create X\n",
    "points = np.array(points)\n",
    "\n",
    "poly = PolynomialFeatures(degree=3)\n",
    "X = poly.fit_transform(points)"
   ]
  },
  {
   "cell_type": "code",
   "execution_count": 94,
   "metadata": {},
   "outputs": [],
   "source": [
    "Z = z.flatten()"
   ]
  },
  {
   "cell_type": "code",
   "execution_count": 97,
   "metadata": {},
   "outputs": [],
   "source": [
    "model = Pipeline([('poly', PolynomialFeatures(degree=3)),\n",
    "                  ('linear', LinearRegression(fit_intercept=False))])"
   ]
  },
  {
   "cell_type": "code",
   "execution_count": 99,
   "metadata": {},
   "outputs": [],
   "source": [
    "learned_model = model.fit(points, Z)"
   ]
  },
  {
   "cell_type": "code",
   "execution_count": 103,
   "metadata": {},
   "outputs": [
    {
     "output_type": "execute_result",
     "data": {
      "text/plain": [
       "array([50.83373867])"
      ]
     },
     "metadata": {},
     "execution_count": 103
    }
   ],
   "source": [
    "learned_model.predict(points[0][None])"
   ]
  },
  {
   "cell_type": "code",
   "execution_count": 112,
   "metadata": {},
   "outputs": [],
   "source": [
    "def pred(model, a, b, c, d):\n",
    "    res = []\n",
    "    for x in np.arange(-5.0, 5.0, 0.1):\n",
    "        for y in np.arange(-5.0, 5.0, 0.1):\n",
    "            res.append(model.predict([[x, y, a, b, c, d]]))\n",
    "    return np.array(res).reshape([100, 100])"
   ]
  },
  {
   "cell_type": "code",
   "execution_count": 120,
   "metadata": {},
   "outputs": [],
   "source": [
    "import joblib"
   ]
  },
  {
   "cell_type": "code",
   "execution_count": 121,
   "metadata": {},
   "outputs": [
    {
     "output_type": "execute_result",
     "data": {
      "text/plain": [
       "['model.pkl']"
      ]
     },
     "metadata": {},
     "execution_count": 121
    }
   ],
   "source": [
    "joblib.dump(learned_model, \"model.pkl\")"
   ]
  }
 ]
}